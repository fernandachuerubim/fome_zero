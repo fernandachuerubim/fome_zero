{
 "cells": [
  {
   "cell_type": "code",
   "execution_count": 39,
   "id": "726feb62-366f-42d7-a069-ef7713c5176e",
   "metadata": {},
   "outputs": [],
   "source": [
    "#Libraries\n",
    "from haversine import haversine\n",
    "import plotly.express as px\n",
    "import plotly.graph_objects as go\n",
    "\n",
    "#bibliotecas necessárias\n",
    "import folium\n",
    "import pandas as pd\n",
    "import streamlit as st\n",
    "from PIL import Image\n",
    "\n",
    "\n",
    "\n"
   ]
  },
  {
   "cell_type": "code",
   "execution_count": 2,
   "id": "8cfe1104-a972-493a-84cb-100aef4c845e",
   "metadata": {
    "tags": []
   },
   "outputs": [
    {
     "ename": "NameError",
     "evalue": "name 'pd' is not defined",
     "output_type": "error",
     "traceback": [
      "\u001b[1;31m---------------------------------------------------------------------------\u001b[0m",
      "\u001b[1;31mNameError\u001b[0m                                 Traceback (most recent call last)",
      "Input \u001b[1;32mIn [2]\u001b[0m, in \u001b[0;36m<cell line: 4>\u001b[1;34m()\u001b[0m\n\u001b[0;32m      1\u001b[0m \u001b[38;5;66;03m#================\u001b[39;00m\n\u001b[0;32m      2\u001b[0m \u001b[38;5;66;03m#import dataset\u001b[39;00m\n\u001b[0;32m      3\u001b[0m \u001b[38;5;66;03m#================\u001b[39;00m\n\u001b[1;32m----> 4\u001b[0m df \u001b[38;5;241m=\u001b[39m \u001b[43mpd\u001b[49m\u001b[38;5;241m.\u001b[39mread_csv(\u001b[38;5;124mr\u001b[39m\u001b[38;5;124m'\u001b[39m\u001b[38;5;124mzomato.csv\u001b[39m\u001b[38;5;124m'\u001b[39m)\n",
      "\u001b[1;31mNameError\u001b[0m: name 'pd' is not defined"
     ]
    }
   ],
   "source": [
    "#================\n",
    "#import dataset\n",
    "#================\n",
    "df = pd.read_csv(r'zomato.csv')\n"
   ]
  },
  {
   "cell_type": "code",
   "execution_count": 41,
   "id": "91a9886e-3211-456e-8b5f-753b4bc58bde",
   "metadata": {},
   "outputs": [
    {
     "data": {
      "text/html": [
       "<div>\n",
       "<style scoped>\n",
       "    .dataframe tbody tr th:only-of-type {\n",
       "        vertical-align: middle;\n",
       "    }\n",
       "\n",
       "    .dataframe tbody tr th {\n",
       "        vertical-align: top;\n",
       "    }\n",
       "\n",
       "    .dataframe thead th {\n",
       "        text-align: right;\n",
       "    }\n",
       "</style>\n",
       "<table border=\"1\" class=\"dataframe\">\n",
       "  <thead>\n",
       "    <tr style=\"text-align: right;\">\n",
       "      <th></th>\n",
       "      <th>Restaurant ID</th>\n",
       "      <th>Restaurant Name</th>\n",
       "      <th>Country Code</th>\n",
       "      <th>City</th>\n",
       "      <th>Address</th>\n",
       "      <th>Locality</th>\n",
       "      <th>Locality Verbose</th>\n",
       "      <th>Longitude</th>\n",
       "      <th>Latitude</th>\n",
       "      <th>Cuisines</th>\n",
       "      <th>...</th>\n",
       "      <th>Currency</th>\n",
       "      <th>Has Table booking</th>\n",
       "      <th>Has Online delivery</th>\n",
       "      <th>Is delivering now</th>\n",
       "      <th>Switch to order menu</th>\n",
       "      <th>Price range</th>\n",
       "      <th>Aggregate rating</th>\n",
       "      <th>Rating color</th>\n",
       "      <th>Rating text</th>\n",
       "      <th>Votes</th>\n",
       "    </tr>\n",
       "  </thead>\n",
       "  <tbody>\n",
       "    <tr>\n",
       "      <th>0</th>\n",
       "      <td>6310675</td>\n",
       "      <td>Mama Lou's Italian Kitchen</td>\n",
       "      <td>162</td>\n",
       "      <td>Las Piñas City</td>\n",
       "      <td>Block 1, Lot 36, Tropical Avenue Corner Tropic...</td>\n",
       "      <td>BF International</td>\n",
       "      <td>BF International, Las Piñas City</td>\n",
       "      <td>121.009787</td>\n",
       "      <td>14.447615</td>\n",
       "      <td>Italian</td>\n",
       "      <td>...</td>\n",
       "      <td>Botswana Pula(P)</td>\n",
       "      <td>1</td>\n",
       "      <td>0</td>\n",
       "      <td>0</td>\n",
       "      <td>0</td>\n",
       "      <td>3</td>\n",
       "      <td>4.6</td>\n",
       "      <td>3F7E00</td>\n",
       "      <td>Excellent</td>\n",
       "      <td>619</td>\n",
       "    </tr>\n",
       "    <tr>\n",
       "      <th>1</th>\n",
       "      <td>6310675</td>\n",
       "      <td>Mama Lou's Italian Kitchen</td>\n",
       "      <td>162</td>\n",
       "      <td>Las Piñas City</td>\n",
       "      <td>Block 1, Lot 36, Tropical Avenue Corner Tropic...</td>\n",
       "      <td>BF International</td>\n",
       "      <td>BF International, Las Piñas City</td>\n",
       "      <td>121.009787</td>\n",
       "      <td>14.447615</td>\n",
       "      <td>Italian</td>\n",
       "      <td>...</td>\n",
       "      <td>Botswana Pula(P)</td>\n",
       "      <td>1</td>\n",
       "      <td>0</td>\n",
       "      <td>0</td>\n",
       "      <td>0</td>\n",
       "      <td>3</td>\n",
       "      <td>4.6</td>\n",
       "      <td>3F7E00</td>\n",
       "      <td>Excellent</td>\n",
       "      <td>619</td>\n",
       "    </tr>\n",
       "  </tbody>\n",
       "</table>\n",
       "<p>2 rows × 21 columns</p>\n",
       "</div>"
      ],
      "text/plain": [
       "   Restaurant ID             Restaurant Name  Country Code            City  \\\n",
       "0        6310675  Mama Lou's Italian Kitchen           162  Las Piñas City   \n",
       "1        6310675  Mama Lou's Italian Kitchen           162  Las Piñas City   \n",
       "\n",
       "                                             Address          Locality  \\\n",
       "0  Block 1, Lot 36, Tropical Avenue Corner Tropic...  BF International   \n",
       "1  Block 1, Lot 36, Tropical Avenue Corner Tropic...  BF International   \n",
       "\n",
       "                   Locality Verbose   Longitude   Latitude Cuisines  ...  \\\n",
       "0  BF International, Las Piñas City  121.009787  14.447615  Italian  ...   \n",
       "1  BF International, Las Piñas City  121.009787  14.447615  Italian  ...   \n",
       "\n",
       "           Currency Has Table booking  Has Online delivery  Is delivering now  \\\n",
       "0  Botswana Pula(P)                 1                    0                  0   \n",
       "1  Botswana Pula(P)                 1                    0                  0   \n",
       "\n",
       "   Switch to order menu  Price range  Aggregate rating  Rating color  \\\n",
       "0                     0            3               4.6        3F7E00   \n",
       "1                     0            3               4.6        3F7E00   \n",
       "\n",
       "  Rating text Votes  \n",
       "0   Excellent   619  \n",
       "1   Excellent   619  \n",
       "\n",
       "[2 rows x 21 columns]"
      ]
     },
     "execution_count": 41,
     "metadata": {},
     "output_type": "execute_result"
    }
   ],
   "source": [
    "df.head(2)"
   ]
  },
  {
   "cell_type": "markdown",
   "id": "896499c5-f02d-4ab8-9402-a53d30326247",
   "metadata": {},
   "source": [
    "1. Quantos restaurantes únicos estão registrados?"
   ]
  },
  {
   "cell_type": "code",
   "execution_count": 28,
   "id": "8e9259a6-3269-4367-b01f-f69f2bea07dd",
   "metadata": {},
   "outputs": [
    {
     "name": "stdout",
     "output_type": "stream",
     "text": [
      "O numero de restaurantes unicos eh: 5914\n"
     ]
    }
   ],
   "source": [
    "restaurant_unique = df.loc[:, 'Restaurant Name'].nunique()\n",
    "print( 'O numero de restaurantes unicos eh: {}'.format(restaurant_unique))"
   ]
  },
  {
   "cell_type": "markdown",
   "id": "e548e745-e8f8-4e7c-a169-dc20d37de41e",
   "metadata": {},
   "source": [
    "2. Quantos países únicos estão registrados?"
   ]
  },
  {
   "cell_type": "code",
   "execution_count": 29,
   "id": "28ebf9fb-46f3-46ad-850f-ac642c005c4f",
   "metadata": {},
   "outputs": [
    {
     "name": "stdout",
     "output_type": "stream",
     "text": [
      "O numero de paises unicos eh: 15\n"
     ]
    }
   ],
   "source": [
    "country_unique = df.loc[:, 'Country Code'].nunique()\n",
    "print( 'O numero de paises unicos eh: {}'.format(country_unique))"
   ]
  },
  {
   "cell_type": "markdown",
   "id": "1bbf68a8-bc59-4a9d-8782-fc5ffa8950a2",
   "metadata": {},
   "source": [
    "3. Quantas cidades únicas estão registradas?"
   ]
  },
  {
   "cell_type": "code",
   "execution_count": 30,
   "id": "01a3b731-27ab-4db0-bdf6-43ae339020b5",
   "metadata": {},
   "outputs": [
    {
     "name": "stdout",
     "output_type": "stream",
     "text": [
      "O numero de cidades unicas eh: 125\n"
     ]
    }
   ],
   "source": [
    "city_unique = df.loc[:, 'City'].nunique()\n",
    "print( 'O numero de cidades unicas eh: {}'.format(city_unique))"
   ]
  },
  {
   "cell_type": "markdown",
   "id": "5c0ef50b-a487-46cb-a375-cbdf47d7fae2",
   "metadata": {},
   "source": [
    "4. Qual o total de avaliações feitas?"
   ]
  },
  {
   "cell_type": "code",
   "execution_count": 35,
   "id": "aed722ba-9d08-4b63-a61a-ca6d6355eecf",
   "metadata": {},
   "outputs": [
    {
     "name": "stdout",
     "output_type": "stream",
     "text": [
      "O total de avaliacoes eh: 7527\n"
     ]
    }
   ],
   "source": [
    "rating_total = df.loc[:,'Rating text'].count()\n",
    "print( 'O total de avaliacoes eh: {}'.format(rating_total))"
   ]
  },
  {
   "cell_type": "markdown",
   "id": "0d584a4f-b361-4939-87c7-ff21705df3f2",
   "metadata": {},
   "source": [
    "5. Qual o total de tipos de culinária registrados?"
   ]
  },
  {
   "cell_type": "code",
   "execution_count": 43,
   "id": "e24d3bae-f642-492d-b4c9-de4962bf3ff7",
   "metadata": {},
   "outputs": [
    {
     "name": "stdout",
     "output_type": "stream",
     "text": [
      "O total de tipos de culinaria registrados eh: 2832\n"
     ]
    }
   ],
   "source": [
    "culinaria_total = df.loc[:,'Cuisines'].nunique()\n",
    "print( 'O total de tipos de culinaria registrados eh: {}'.format(culinaria_total))"
   ]
  },
  {
   "cell_type": "code",
   "execution_count": null,
   "id": "126ac9b0-2026-4942-a720-3c1a1cbefb42",
   "metadata": {},
   "outputs": [],
   "source": []
  }
 ],
 "metadata": {
  "kernelspec": {
   "display_name": "Python 3 (ipykernel)",
   "language": "python",
   "name": "python3"
  },
  "language_info": {
   "codemirror_mode": {
    "name": "ipython",
    "version": 3
   },
   "file_extension": ".py",
   "mimetype": "text/x-python",
   "name": "python",
   "nbconvert_exporter": "python",
   "pygments_lexer": "ipython3",
   "version": "3.9.12"
  }
 },
 "nbformat": 4,
 "nbformat_minor": 5
}
